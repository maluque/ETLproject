{
 "cells": [
  {
   "cell_type": "markdown",
   "id": "41e71f7f",
   "metadata": {},
   "source": [
    "# TRANSFORM\n",
    "# Cleaning raw data from Women t-shirts from ASOS API\n",
    "\n",
    "Data was accessed through an API on 2023-10-04 and <br/>\n",
    "stored as a pickle file in `../../data/raw/asos_womentshirt_data.pk`\n",
    "\n",
    "The raw `asos_womentshirt_data` dataset is a json with a very complex structure <br/>\n",
    "\n",
    "\n",
    "Now the data must be cleaned and transform to comply with the DDBB standards.\n",
    "\n",
    "--------\n",
    "\n",
    "Raw `asos_womentshirt_data` dataset has the following issues:\n",
    "\n",
    "\n",
    "* 1. Extract only relevant data **(brand, description, price, colour)**\n",
    "    \n",
    "* 2. ASOS dataset **486 names** for colours\n",
    "    * Normalize the color names using `mlg.namvector_clean`\n",
    "    * Simplify colour names according to the colors used by Amazon.es\n",
    "    * Use `../../data/raw/color_simplification.pkl` - A chatGPT generated dictionary to simplifify the colors returned by ASOS\n",
    "    * Transform rows with multiple color values transform to \"multicolor\"\n",
    "\n",
    "* 3. Clean `price` column\n",
    "* 4. Normalize brand names\n",
    "\n",
    "--------\n",
    "\n",
    "Save cleaned data in `../../data/clean/asos_womentshirt_data.pk`"
   ]
  },
  {
   "cell_type": "markdown",
   "id": "4b0693e1",
   "metadata": {},
   "source": [
    "### 0. Import the modules"
   ]
  },
  {
   "cell_type": "code",
   "execution_count": 286,
   "id": "645ccd3d",
   "metadata": {},
   "outputs": [],
   "source": [
    "import requests\n",
    "import time\n",
    "import pandas as pd\n",
    "import pickle\n",
    "\n",
    "import warnings\n",
    "warnings.filterwarnings('ignore') # ignorar warnings"
   ]
  },
  {
   "cell_type": "code",
   "execution_count": 6,
   "id": "3e2d11f2",
   "metadata": {},
   "outputs": [],
   "source": [
    "from logs.PASSES import RAPID ## my TOKEN"
   ]
  },
  {
   "cell_type": "markdown",
   "id": "e2a1eabf",
   "metadata": {},
   "source": [
    "Import my module"
   ]
  },
  {
   "cell_type": "code",
   "execution_count": 37,
   "id": "35cb7672",
   "metadata": {},
   "outputs": [],
   "source": [
    "from src import dataanalysis_fun1 as mlg "
   ]
  },
  {
   "cell_type": "markdown",
   "id": "76d8b386",
   "metadata": {},
   "source": [
    "Reload my module if neccessary"
   ]
  },
  {
   "cell_type": "code",
   "execution_count": null,
   "id": "d37ad064",
   "metadata": {},
   "outputs": [],
   "source": [
    "import importlib\n",
    "from src import dataanalysis_fun1 as mlg # Import the module\n",
    "#importlib.reload(mlg)  # Reload the module\n",
    "\n",
    "# Suppress warning when reloading the module\n",
    "with warnings.catch_warnings():\n",
    "    warnings.simplefilter(\"ignore\") \n",
    "    importlib.reload(mlg)  # Reload the module"
   ]
  },
  {
   "cell_type": "markdown",
   "id": "8729e08e",
   "metadata": {},
   "source": [
    "## 1. Load the data using pickle"
   ]
  },
  {
   "cell_type": "code",
   "execution_count": 305,
   "id": "6909971d",
   "metadata": {},
   "outputs": [],
   "source": [
    "# Now, let's load the object from the file\n",
    "with open('../../data/raw/asos_womentshirt_data.pkl', 'rb') as file:\n",
    "    asos_womentshirt_data = pickle.load(file)"
   ]
  },
  {
   "cell_type": "code",
   "execution_count": 306,
   "id": "c3ea389c",
   "metadata": {
    "scrolled": true
   },
   "outputs": [],
   "source": [
    "asos_raw=asos_womentshirt_data"
   ]
  },
  {
   "cell_type": "code",
   "execution_count": 307,
   "id": "267dd08c",
   "metadata": {},
   "outputs": [
    {
     "data": {
      "text/plain": [
       "3001"
      ]
     },
     "execution_count": 307,
     "metadata": {},
     "output_type": "execute_result"
    }
   ],
   "source": [
    "len(asos_raw)"
   ]
  },
  {
   "cell_type": "markdown",
   "id": "b10f4675",
   "metadata": {},
   "source": [
    "## 2. Transform (clean the data)"
   ]
  },
  {
   "cell_type": "markdown",
   "id": "3693fdef",
   "metadata": {},
   "source": [
    "### 2.1 Clean and extract relevant text\n",
    "\n",
    "The ultimate goal is, for each element, to keep only the brand, product description and price € "
   ]
  },
  {
   "cell_type": "code",
   "execution_count": 301,
   "id": "cbe632d6",
   "metadata": {},
   "outputs": [
    {
     "data": {
      "text/plain": [
       "{'id': 201533178,\n",
       " 'name': 'Top negro escalonado de manga larga con estampado animal de New Look',\n",
       " 'price': {'current': {'value': 16.99, 'text': '16,99 €'},\n",
       "  'previous': {'value': None, 'text': ''},\n",
       "  'rrp': {'value': 22.99, 'text': '22,99 €'},\n",
       "  'isMarkedDown': False,\n",
       "  'isOutletPrice': True,\n",
       "  'currency': 'EUR'},\n",
       " 'colour': 'Negro',\n",
       " 'colourWayId': 201533179,\n",
       " 'brandName': 'New Look',\n",
       " 'hasVariantColours': False,\n",
       " 'hasMultiplePrices': False,\n",
       " 'groupId': None,\n",
       " 'productCode': 113613824,\n",
       " 'productType': 'Product',\n",
       " 'url': 'new-look/top-negro-escalonado-de-manga-larga-con-estampado-animal-de-new-look/prd/201533178?clr=negro&colourWayId=201533179',\n",
       " 'imageUrl': 'images.asos-media.com/products/top-negro-escalonado-de-manga-larga-con-estampado-animal-de-new-look/201533178-1-black',\n",
       " 'additionalImageUrls': ['images.asos-media.com/products/top-negro-escalonado-de-manga-larga-con-estampado-animal-de-new-look/201533178-2',\n",
       "  'images.asos-media.com/products/top-negro-escalonado-de-manga-larga-con-estampado-animal-de-new-look/201533178-3',\n",
       "  'images.asos-media.com/products/top-negro-escalonado-de-manga-larga-con-estampado-animal-de-new-look/201533178-4'],\n",
       " 'videoUrl': None,\n",
       " 'showVideo': False,\n",
       " 'isSellingFast': False,\n",
       " 'sponsoredCampaignId': None,\n",
       " 'facetGroupings': [],\n",
       " 'advertisement': None}"
      ]
     },
     "execution_count": 301,
     "metadata": {},
     "output_type": "execute_result"
    }
   ],
   "source": [
    "asos_raw[0]"
   ]
  },
  {
   "cell_type": "code",
   "execution_count": 248,
   "id": "698ba43c",
   "metadata": {},
   "outputs": [
    {
     "data": {
      "text/plain": [
       "'New Look'"
      ]
     },
     "metadata": {},
     "output_type": "display_data"
    },
    {
     "data": {
      "text/plain": [
       "'Top negro escalonado de manga larga con estampado animal de New Look'"
      ]
     },
     "metadata": {},
     "output_type": "display_data"
    },
    {
     "data": {
      "text/plain": [
       "'16,99 €'"
      ]
     },
     "metadata": {},
     "output_type": "display_data"
    },
    {
     "data": {
      "text/plain": [
       "'Negro'"
      ]
     },
     "metadata": {},
     "output_type": "display_data"
    }
   ],
   "source": [
    "display(asos_raw[0][\"brandName\"], asos_raw[0][\"name\"],  asos_raw[0][\"price\"][\"current\"][\"text\"], asos_raw[0][\"colour\"], )"
   ]
  },
  {
   "cell_type": "code",
   "execution_count": 308,
   "id": "d3740360",
   "metadata": {},
   "outputs": [],
   "source": [
    "thedf=[[row[\"brandName\"], row[\"name\"],  row[\"price\"][\"current\"][\"text\"], row[\"colour\"]] for row in asos_raw]"
   ]
  },
  {
   "cell_type": "code",
   "execution_count": 309,
   "id": "6a28b547",
   "metadata": {
    "scrolled": true
   },
   "outputs": [],
   "source": [
    "color_df=pd.DataFrame(thedf,columns=[\"brand\", \"description\", \"price\", \"colour\"])"
   ]
  },
  {
   "cell_type": "code",
   "execution_count": 310,
   "id": "bbf03231",
   "metadata": {},
   "outputs": [
    {
     "data": {
      "text/html": [
       "<div>\n",
       "<style scoped>\n",
       "    .dataframe tbody tr th:only-of-type {\n",
       "        vertical-align: middle;\n",
       "    }\n",
       "\n",
       "    .dataframe tbody tr th {\n",
       "        vertical-align: top;\n",
       "    }\n",
       "\n",
       "    .dataframe thead th {\n",
       "        text-align: right;\n",
       "    }\n",
       "</style>\n",
       "<table border=\"1\" class=\"dataframe\">\n",
       "  <thead>\n",
       "    <tr style=\"text-align: right;\">\n",
       "      <th></th>\n",
       "      <th>brand</th>\n",
       "      <th>description</th>\n",
       "      <th>price</th>\n",
       "      <th>colour</th>\n",
       "    </tr>\n",
       "  </thead>\n",
       "  <tbody>\n",
       "    <tr>\n",
       "      <th>0</th>\n",
       "      <td>New Look</td>\n",
       "      <td>Top negro escalonado de manga larga con estamp...</td>\n",
       "      <td>16,99 €</td>\n",
       "      <td>Negro</td>\n",
       "    </tr>\n",
       "    <tr>\n",
       "      <th>1</th>\n",
       "      <td>Mama.licious</td>\n",
       "      <td>Top color ámbar dorado de manga larga con cuel...</td>\n",
       "      <td>45,99 €</td>\n",
       "      <td>Dorado ámbar</td>\n",
       "    </tr>\n",
       "    <tr>\n",
       "      <th>2</th>\n",
       "      <td>Mama.licious</td>\n",
       "      <td>Top amarillo de manga larga con cuello ancho d...</td>\n",
       "      <td>21,99 €</td>\n",
       "      <td>Dorado ámbar</td>\n",
       "    </tr>\n",
       "    <tr>\n",
       "      <th>3</th>\n",
       "      <td>Selected</td>\n",
       "      <td>Top marrón de manga larga con cuello alto de S...</td>\n",
       "      <td>31,99 €</td>\n",
       "      <td>Tierra oscura</td>\n",
       "    </tr>\n",
       "    <tr>\n",
       "      <th>4</th>\n",
       "      <td>Mama.licious</td>\n",
       "      <td>Top multicolor a rayas con cuello alto de punt...</td>\n",
       "      <td>40,99 €</td>\n",
       "      <td>MULTICOLOR</td>\n",
       "    </tr>\n",
       "    <tr>\n",
       "      <th>...</th>\n",
       "      <td>...</td>\n",
       "      <td>...</td>\n",
       "      <td>...</td>\n",
       "      <td>...</td>\n",
       "    </tr>\n",
       "    <tr>\n",
       "      <th>2996</th>\n",
       "      <td>JDY</td>\n",
       "      <td>Camiseta sin mangas negra de punto de JDY</td>\n",
       "      <td>8,00 €</td>\n",
       "      <td>Negro</td>\n",
       "    </tr>\n",
       "    <tr>\n",
       "      <th>2997</th>\n",
       "      <td>ASOS Maternity</td>\n",
       "      <td>Pack de 3 camisetas de manga larga con cuello ...</td>\n",
       "      <td>38,50 €</td>\n",
       "      <td>Negro/blanco</td>\n",
       "    </tr>\n",
       "    <tr>\n",
       "      <th>2998</th>\n",
       "      <td>River Island</td>\n",
       "      <td>Top de escote cuadrado con manga larga en negr...</td>\n",
       "      <td>11,25 €</td>\n",
       "      <td>Negro</td>\n",
       "    </tr>\n",
       "    <tr>\n",
       "      <th>2999</th>\n",
       "      <td>Vans</td>\n",
       "      <td>Camiseta blanca con logo pequeño de Vans</td>\n",
       "      <td>21,00 €</td>\n",
       "      <td>Blanco</td>\n",
       "    </tr>\n",
       "    <tr>\n",
       "      <th>3000</th>\n",
       "      <td>ASOS Maternity - Nursing</td>\n",
       "      <td>Camiseta de lactancia gris marga con cuello de...</td>\n",
       "      <td>17,49 €</td>\n",
       "      <td>Gris marga</td>\n",
       "    </tr>\n",
       "  </tbody>\n",
       "</table>\n",
       "<p>3001 rows × 4 columns</p>\n",
       "</div>"
      ],
      "text/plain": [
       "                         brand  \\\n",
       "0                     New Look   \n",
       "1                 Mama.licious   \n",
       "2                 Mama.licious   \n",
       "3                     Selected   \n",
       "4                 Mama.licious   \n",
       "...                        ...   \n",
       "2996                       JDY   \n",
       "2997            ASOS Maternity   \n",
       "2998              River Island   \n",
       "2999                      Vans   \n",
       "3000  ASOS Maternity - Nursing   \n",
       "\n",
       "                                            description    price  \\\n",
       "0     Top negro escalonado de manga larga con estamp...  16,99 €   \n",
       "1     Top color ámbar dorado de manga larga con cuel...  45,99 €   \n",
       "2     Top amarillo de manga larga con cuello ancho d...  21,99 €   \n",
       "3     Top marrón de manga larga con cuello alto de S...  31,99 €   \n",
       "4     Top multicolor a rayas con cuello alto de punt...  40,99 €   \n",
       "...                                                 ...      ...   \n",
       "2996          Camiseta sin mangas negra de punto de JDY   8,00 €   \n",
       "2997  Pack de 3 camisetas de manga larga con cuello ...  38,50 €   \n",
       "2998  Top de escote cuadrado con manga larga en negr...  11,25 €   \n",
       "2999           Camiseta blanca con logo pequeño de Vans  21,00 €   \n",
       "3000  Camiseta de lactancia gris marga con cuello de...  17,49 €   \n",
       "\n",
       "             colour  \n",
       "0             Negro  \n",
       "1      Dorado ámbar  \n",
       "2      Dorado ámbar  \n",
       "3     Tierra oscura  \n",
       "4        MULTICOLOR  \n",
       "...             ...  \n",
       "2996          Negro  \n",
       "2997   Negro/blanco  \n",
       "2998          Negro  \n",
       "2999         Blanco  \n",
       "3000     Gris marga  \n",
       "\n",
       "[3001 rows x 4 columns]"
      ]
     },
     "execution_count": 310,
     "metadata": {},
     "output_type": "execute_result"
    }
   ],
   "source": [
    "color_df"
   ]
  },
  {
   "cell_type": "markdown",
   "id": "3d089d15",
   "metadata": {
    "scrolled": true
   },
   "source": [
    "### 2.2  ASOS dataset 486 names for colours"
   ]
  },
  {
   "cell_type": "code",
   "execution_count": 311,
   "id": "40b70e46",
   "metadata": {},
   "outputs": [
    {
     "data": {
      "text/plain": [
       "486"
      ]
     },
     "execution_count": 311,
     "metadata": {},
     "output_type": "execute_result"
    }
   ],
   "source": [
    "len(color_df[\"colour\"].unique())"
   ]
  },
  {
   "cell_type": "code",
   "execution_count": 312,
   "id": "fa6275d0",
   "metadata": {},
   "outputs": [
    {
     "data": {
      "text/plain": [
       "array(['Negro', 'Dorado ámbar', 'Tierra oscura', 'MULTICOLOR',\n",
       "       'Blanco nieve', 'Verde oscuro', 'Negro descolorido', 'Sidra',\n",
       "       'Blanco desgastado', 'Verde', 'Rosa', 'Key Largo', 'Blanco',\n",
       "       'Blanco óptico', 'Rojo', 'Blanco puro', 'Leopardo', 'Blanco leche',\n",
       "       'Crudo', 'Estrella/corazón/símbolo de la paz', 'Marrón',\n",
       "       'Marga avena', 'Dalia', 'Piedra', 'Lila', 'Gris claro',\n",
       "       'Naranja quemado', 'Violeta', 'Burdeos', 'Crema', 'Naranja',\n",
       "       'Verde lima', 'Marrón oscuro', 'Verde claro', 'blanco', 'Azul',\n",
       "       'Blanco con diseño de Mickey', 'Gris espumoso', 'Multicolor',\n",
       "       'Gris marga', 'Gris', 'piedra', 'azul marino', 'Corazón de acero',\n",
       "       'Camiseta sin mangas de canalé Wilderville', 'Gris desgastado',\n",
       "       'Carbón lavado', 'Blanco estampado', 'Rosa intenso',\n",
       "       'Marrón Bombay', 'Negro TNF', 'Amarillo', 'Caqui',\n",
       "       'Gris jaspeado y crema', 'Tostado', 'Rosa claro', 'Azul claro',\n",
       "       'Pizarra', 'Marrón topo', 'Black', 'Negro/lago intenso',\n",
       "       'Blanco/verde manzana menta', 'Azul océano intenso', 'Natural',\n",
       "       'Verde y crema', 'Salvia apagado', 'Blanco y marrón',\n",
       "       'Violeta multicolor', 'Blanco hueso', 'Rosa tenue', 'Marrón claro',\n",
       "       'Color moca y crema', 'Verde desgastado', 'Plateado',\n",
       "       'Azul polvoriento', 'Azul medio', 'Neutro', 'Soldado',\n",
       "       'Ladrillo con fuego', 'Verde militar', 'A00 + corazón rojo',\n",
       "       'crudo', 'Monocromático', 'Flores azules', 'Verde medio', 'Beis',\n",
       "       'Gris melange medio', 'Rayas azules', 'Beis claro', 'Marfil',\n",
       "       'Azul pastel', 'Turquesa pastel',\n",
       "       \"Oscuro con logo Levi's brillante\", \"Logo Levi's de pedrería\",\n",
       "       'Tan', 'Marrón chocolate', 'Coral', 'Blanco TNF', 'Azul marino',\n",
       "       'Negro desgastado', 'Azul cerceta', 'Estampado marrón',\n",
       "       'Multicolor neutro', 'Caqui Dickies', 'Dorado',\n",
       "       'Caqui/gris jaspeado', 'Camel', 'Deep lake', 'Brown',\n",
       "       'Blanco y rojo', 'Negro lavado', 'Negro abstracto',\n",
       "       'SSNL luminoso', 'Blanco/luz solar', 'Verde apagado',\n",
       "       'Gris carbón', 'Combinación clásica', 'Crema 021',\n",
       "       'Crema irlandesa', 'Color hueso', 'Cáscara de huevo',\n",
       "       'Lavado oscuro envejecido Go', 'Antracita', 'marrón',\n",
       "       'Blanco/rosa luminoso', 'Denim medio', 'Rayas crema',\n",
       "       'Crudo con estampado \"Marseille Hotel\"',\n",
       "       'Amarillo/estampado artístico', 'Piedra pómez', 'Morado',\n",
       "       'Rosa begonia', 'Nenúfar', 'Blanco negro rojo', 'Lavanda / negro',\n",
       "       \"Camiseta blanca con estampado floral de Levi's\", 'naranja',\n",
       "       'Marga hielo', 'Blanco/estampado de postal', 'Salvia',\n",
       "       'Tofu perla', 'Cloud dancer', 'Verde palma', 'Arena',\n",
       "       'Blanco/flores azules', 'azul', 'Chocolate', 'Arena claro a rayas',\n",
       "       'Lima', 'Rosa claro lavado', 'Turquesa',\n",
       "       'Símbolo de la paz floral', 'Blanco y azul marino',\n",
       "       'Blanco y amarillo', 'Blanco nube', 'Marga coral', 'Blanco rodeo',\n",
       "       'Visón', 'Gris jaspeado', 'Blanco/verde', 'Avena jaspeado',\n",
       "       'Blanco alyssum', 'Rayas blancas', 'Hey Friend 4',\n",
       "       'Vainilla francesa', 'Lavanda jaspeado',\n",
       "       'Blanco con estampado negro', 'Estampado floral artesano',\n",
       "       'Logo deportivo minimalista', 'Logo serif', 'Azules',\n",
       "       'Rayas rojas veraniegas', 'Beis verdoso', 'Blanco luminoso',\n",
       "       'Licencia Mickey Mouse', 'Desert sage', 'Rosa aurora',\n",
       "       'Violeta pastel', 'Negro Ck', 'Abstracto multicolor',\n",
       "       'Verde intenso', 'violeta', 'Desert sand', 'Negro azabache',\n",
       "       'Guijarro', 'Rayas monocolor', 'Rosa oscuro', 'Marrón multicolor',\n",
       "       'Pinksicle', 'Blanco y verde', 'Negro grisáceo', 'Verde pop',\n",
       "       'Negro/gris', 'Fluro Orange', 'Blanco hueso y rosa', 'Hueso',\n",
       "       'Azul cielo', 'Impala', 'Beis melange', 'Lavanda pastel',\n",
       "       'Melocotón melba', 'Surf Spray', 'Rojo desgastado',\n",
       "       'Remolinos verdes', 'Estampado de cuadros vichy', 'Rosa grisáceo',\n",
       "       'Rosa polvareda', 'Florecitas rojas', 'Carbón', 'Rosa rubor',\n",
       "       'Lima claro', 'Mostaza', 'Rosa/blanco/azul marino', 'Beis- oscuro',\n",
       "       'Rosa sol naciente', 'Gris bruma', 'Rayas verde lima y blancas',\n",
       "       'Verde manzana y menta', 'Blanco y rosa', 'Azul Aruba', 'Rosado',\n",
       "       'Paprika', 'Rosa cuarzo', 'Azul luminoso', 'Beis maravilla',\n",
       "       'MUSTARD', 'Lila pastel', 'Blanco/multicolor', 'Oliva neutro',\n",
       "       'Hueso Happy pino', 'Crema/avena', 'Verde salvia/blanco',\n",
       "       'Burdeos intenso', 'Amarillo claro', 'Oliva', 'Azul brillante',\n",
       "       'Organza verde', 'TONOS NEUTROS', 'Azul/multicolor',\n",
       "       'Estampado amarillo', 'Rosa/multicolor', 'Albaricoque',\n",
       "       'Negro/acero', 'Verdes', 'Estampado de rayas finas', 'Azul hielo',\n",
       "       'Camel tofe', 'Mocha', 'Ciruela', 'Melocotón', 'Azul polvareda',\n",
       "       'Rayas', 'Aura rosa', 'Rosa verde', 'Rayas blancas y verdes',\n",
       "       'Azul/gris', 'Blanco floral', 'Rojo y crema', 'Amarillo y blanco',\n",
       "       'Marrón universitario', 'Mariposa cósmica', 'Sorbete de lima',\n",
       "       'Avena', 'Cuadros verdes', 'Limón', 'Oliva suave', 'Malva',\n",
       "       'Arena desértica/negro', 'Amarillo ámbar', 'Crepúsculo',\n",
       "       'Negro y blanco', 'Verde 376', 'Sunset Gold', 'Rosa bebé', 'AQUA',\n",
       "       'Rosa flash', 'Rosa y blanco', 'Rosa frambuesa', 'Limonada rosa',\n",
       "       'Color teja', 'Rosa y gris', 'amarillo', 'Verde pradera',\n",
       "       'Rosa luminoso', 'Negro/blanco', 'Rosa desgastado',\n",
       "       'de Barbour Beacon', 'Menta', 'Cargo', 'Azul marino medianoche',\n",
       "       'Gris calco', 'Azul intenso', 'Violeta/rosa', 'Brunette',\n",
       "       'Aguamarina polvoreada', 'Nube', 'Marrón/piedra', 'Hortensia',\n",
       "       'Zanahoria/lechuga', 'Estampado integral lima',\n",
       "       'Estampado monocromático', 'Blanco hueso y azul marino',\n",
       "       'Blanco hueso/verde', 'Azul difuso', 'ASH', 'Pink Soda',\n",
       "       'Verde salvia', 'Naranja atardecer', 'Rojo oscuro',\n",
       "       'Arcilla coral', 'Blanco maravilla jaspeado', 'Negro puro',\n",
       "       'Blanco concha marina', 'Rosado nostalgia', 'Gris medio',\n",
       "       'Rojo burdeos', 'Rosa estampado', 'Sol cósmico/blanco', 'Nogal',\n",
       "       'Jacquard visón', 'Verde bosque', 'Verde mar profundo',\n",
       "       'Malva dulce', 'Gris hielo claro', 'Cebra multicolor abstracta',\n",
       "       'Diseño a cuadros de efecto tie dye', 'Estampado de cebra',\n",
       "       'Azul Dafne', 'Cambray azul cielo/multicolor',\n",
       "       'Negro estampado Marguerit', 'C74+A00 (negro)',\n",
       "       'Estampado de cuadros tipo cuadrícula', 'Rocío de orquídea',\n",
       "       'Flúor lavado', 'Flamin Go', 'Azul cobalto', 'Azul y negro',\n",
       "       'Frambuesa', 'Arena blanca', 'Dorado viejo',\n",
       "       'Azul marino crepuscular', 'Carmesí intenso', 'Malva pradera',\n",
       "       'Raya verde', 'Multicolor verde', 'Color crudo gofrado',\n",
       "       'Berenjena', 'Jengibre', 'Azul pizarra', 'caqui', 'chocolate',\n",
       "       'Topo', 'Castaño/miel', 'Rosa fresa', 'Bata Monks', 'Teja',\n",
       "       'Cerceta/lima', 'Azul princesa', 'Charisma', 'Lúrex negro',\n",
       "       'Tango mandarina', 'Halcón', 'Violeta oscuro', 'Rayas negras',\n",
       "       'crema', 'Rosa pálido', 'Animal violeta', 'Gris brezo',\n",
       "       'Musgo floral', 'Rayas melocotón Melba', 'Total Eclipse',\n",
       "       'Marrón chocolate a rayas', 'Estampado floral',\n",
       "       'Estampado geométrico', 'Plateado porcelana',\n",
       "       'Morado efecto tie dye', 'Guijarro lavado',\n",
       "       'Azul intenso violáceo', 'Lila pizarra', 'Verde pino',\n",
       "       'Beis y negro', 'Chocolate oscuro', 'Antracita marga',\n",
       "       'Camel marga', 'Cáscara de coco', 'Azul marino crema',\n",
       "       'Rosa marga', 'Acai', 'Negro/blanco/gris', 'Fucsia',\n",
       "       'Blanco y naranja', 'Galleta', 'Rayas cerveza de raíz',\n",
       "       'Violeta marga', 'Rosa/marrón', 'Verde floral', 'Beis neutro',\n",
       "       'Caqui / crema antiguo', 'Rojo tomate jaspeado', 'Negro floral',\n",
       "       'Jacaranda Gigi', 'Tofu', 'Pera', 'Serpiente',\n",
       "       'Bruma verde salvia', 'Chocolate y lima', 'Caviar',\n",
       "       'Beis/estampado integral negro', 'Verde veneno',\n",
       "       'Estampado leopardo', 'Vino', '24 verde silt/negro', 'Verde menta',\n",
       "       'Polvo del Sáhara', 'Azul real',\n",
       "       'Estampado integral azul y morado', 'Leopardo blanco',\n",
       "       'Violeta claro', 'Rosa del desierto', 'Rosa floral',\n",
       "       'Amarillo oscuro', 'Marrón marga', 'Azul y crema', 'Combo guapo',\n",
       "       'Azul desgastado', 'rojo', 'Blanco y negro', 'Brillo lila',\n",
       "       'Negro/naranja', 'Canalé naranja', 'Negro/verde', 'Arcilla',\n",
       "       'Verde Amazonas', 'Violeta fucsia', 'Verde clásico',\n",
       "       'Verde Viridiana', 'Rosa y verde', 'Camel/naranja', 'coral',\n",
       "       'Margaritas de croché', 'Verde manzana', 'Glicinia oscuro',\n",
       "       'Óxido', 'Rojo intenso', 'Gris tiburón', 'C74/logo blanco',\n",
       "       'Blanco negro', 'Lila liso', 'Animal', 'Azul marítimo',\n",
       "       'Semilla de camomila', 'Explosión floral', 'Cantalupo',\n",
       "       'Caqui lavado', 'Malvavisco', 'Blanco/negro', 'Amarillo verdoso',\n",
       "       'Orquídea', 'Salvia/lavado ácido', 'Mármol', 'Marga gris claro',\n",
       "       'Naranja claro', 'Amarillo y negro', 'Crema y negro',\n",
       "       'Rayas amarillas', 'Arena Savannah/multicolor', 'Lunares blancos',\n",
       "       'Tomate', 'Gris oscuro', 'Azul marino/rayas', 'Taffy', 'Manzana',\n",
       "       'Halomint', 'Gris brezo medio', 'Gris brezo claro',\n",
       "       'Negro tropical', 'Lavado a la piedra', 'Estampado', 'Negro Puma',\n",
       "       'Rayas rojo multicolor', 'Morado lila', 'SKY TINT',\n",
       "       'Gris elefante', 'TWILIGHT NAVY', 'BLUE', 'WHITE'], dtype=object)"
      ]
     },
     "execution_count": 312,
     "metadata": {},
     "output_type": "execute_result"
    }
   ],
   "source": [
    "color_df[\"colour\"].unique()"
   ]
  },
  {
   "cell_type": "markdown",
   "id": "ddcbed5e",
   "metadata": {},
   "source": [
    "### 1. Normalize the color names using `mlg.namvector_clean`"
   ]
  },
  {
   "cell_type": "code",
   "execution_count": 313,
   "id": "1f2dd1c0",
   "metadata": {},
   "outputs": [],
   "source": [
    "color_df1=color_df.copy()\n",
    "color_df1[\"colour\"]=mlg.namvector_clean(color_df1[\"colour\"])\n",
    "color_df1[\"colour\"]=[col.replace(\"_\", \" \") for col in color_df1[\"colour\"]]"
   ]
  },
  {
   "cell_type": "markdown",
   "id": "8981fe6f",
   "metadata": {},
   "source": [
    "### 2. Simplify colour names according to the colors used by Amazon.es"
   ]
  },
  {
   "cell_type": "code",
   "execution_count": 314,
   "id": "764a23e0",
   "metadata": {},
   "outputs": [],
   "source": [
    "amz_colors=['negro', 'gris', 'blanco', 'marron', 'beis', 'rojo', 'rosa',\n",
    "       'naranja', 'amarillo', 'marfil', 'verde', 'turquesa', 'azul',\n",
    "       'morado', 'dorado']"
   ]
  },
  {
   "cell_type": "markdown",
   "id": "3aac7117",
   "metadata": {},
   "source": [
    "#### Load the object from the file -chatGPT generated dictionary to simplifify the colors returned by ASOS"
   ]
  },
  {
   "cell_type": "code",
   "execution_count": 315,
   "id": "78f005a8",
   "metadata": {},
   "outputs": [],
   "source": [
    "with open('../../data/raw/color_simplification.pkl', 'rb') as file:\n",
    "    color_simplification = pickle.load(file)"
   ]
  },
  {
   "cell_type": "code",
   "execution_count": 316,
   "id": "b5d9e04d",
   "metadata": {},
   "outputs": [],
   "source": [
    "color_df2=color_df1.copy()\n",
    "\n",
    "color_df2[\"colour_simp\"]=\"\"\n",
    "color_df2.head()\n",
    "\n",
    "for i in range(len(color_df2)):    \n",
    "    for j in amz_colors:\n",
    "        \n",
    "        if (j in color_df2[\"colour\"][i]):\n",
    "            color_df2[\"colour_simp\"][i]=color_df2[\"colour_simp\"][i] +\" \" +j\n",
    "            \n"
   ]
  },
  {
   "cell_type": "code",
   "execution_count": 317,
   "id": "9477bf6c",
   "metadata": {},
   "outputs": [
    {
     "data": {
      "text/html": [
       "<div>\n",
       "<style scoped>\n",
       "    .dataframe tbody tr th:only-of-type {\n",
       "        vertical-align: middle;\n",
       "    }\n",
       "\n",
       "    .dataframe tbody tr th {\n",
       "        vertical-align: top;\n",
       "    }\n",
       "\n",
       "    .dataframe thead th {\n",
       "        text-align: right;\n",
       "    }\n",
       "</style>\n",
       "<table border=\"1\" class=\"dataframe\">\n",
       "  <thead>\n",
       "    <tr style=\"text-align: right;\">\n",
       "      <th></th>\n",
       "      <th>brand</th>\n",
       "      <th>description</th>\n",
       "      <th>price</th>\n",
       "      <th>colour</th>\n",
       "      <th>colour_simp</th>\n",
       "    </tr>\n",
       "  </thead>\n",
       "  <tbody>\n",
       "    <tr>\n",
       "      <th>0</th>\n",
       "      <td>New Look</td>\n",
       "      <td>Top negro escalonado de manga larga con estamp...</td>\n",
       "      <td>16,99 €</td>\n",
       "      <td>negro</td>\n",
       "      <td>negro</td>\n",
       "    </tr>\n",
       "    <tr>\n",
       "      <th>1</th>\n",
       "      <td>Mama.licious</td>\n",
       "      <td>Top color ámbar dorado de manga larga con cuel...</td>\n",
       "      <td>45,99 €</td>\n",
       "      <td>dorado ambar</td>\n",
       "      <td>dorado</td>\n",
       "    </tr>\n",
       "    <tr>\n",
       "      <th>2</th>\n",
       "      <td>Mama.licious</td>\n",
       "      <td>Top amarillo de manga larga con cuello ancho d...</td>\n",
       "      <td>21,99 €</td>\n",
       "      <td>dorado ambar</td>\n",
       "      <td>dorado</td>\n",
       "    </tr>\n",
       "    <tr>\n",
       "      <th>3</th>\n",
       "      <td>Selected</td>\n",
       "      <td>Top marrón de manga larga con cuello alto de S...</td>\n",
       "      <td>31,99 €</td>\n",
       "      <td>tierra oscura</td>\n",
       "      <td></td>\n",
       "    </tr>\n",
       "    <tr>\n",
       "      <th>4</th>\n",
       "      <td>Mama.licious</td>\n",
       "      <td>Top multicolor a rayas con cuello alto de punt...</td>\n",
       "      <td>40,99 €</td>\n",
       "      <td>multicolor</td>\n",
       "      <td></td>\n",
       "    </tr>\n",
       "    <tr>\n",
       "      <th>...</th>\n",
       "      <td>...</td>\n",
       "      <td>...</td>\n",
       "      <td>...</td>\n",
       "      <td>...</td>\n",
       "      <td>...</td>\n",
       "    </tr>\n",
       "    <tr>\n",
       "      <th>2996</th>\n",
       "      <td>JDY</td>\n",
       "      <td>Camiseta sin mangas negra de punto de JDY</td>\n",
       "      <td>8,00 €</td>\n",
       "      <td>negro</td>\n",
       "      <td>negro</td>\n",
       "    </tr>\n",
       "    <tr>\n",
       "      <th>2997</th>\n",
       "      <td>ASOS Maternity</td>\n",
       "      <td>Pack de 3 camisetas de manga larga con cuello ...</td>\n",
       "      <td>38,50 €</td>\n",
       "      <td>negro blanco</td>\n",
       "      <td>negro blanco</td>\n",
       "    </tr>\n",
       "    <tr>\n",
       "      <th>2998</th>\n",
       "      <td>River Island</td>\n",
       "      <td>Top de escote cuadrado con manga larga en negr...</td>\n",
       "      <td>11,25 €</td>\n",
       "      <td>negro</td>\n",
       "      <td>negro</td>\n",
       "    </tr>\n",
       "    <tr>\n",
       "      <th>2999</th>\n",
       "      <td>Vans</td>\n",
       "      <td>Camiseta blanca con logo pequeño de Vans</td>\n",
       "      <td>21,00 €</td>\n",
       "      <td>blanco</td>\n",
       "      <td>blanco</td>\n",
       "    </tr>\n",
       "    <tr>\n",
       "      <th>3000</th>\n",
       "      <td>ASOS Maternity - Nursing</td>\n",
       "      <td>Camiseta de lactancia gris marga con cuello de...</td>\n",
       "      <td>17,49 €</td>\n",
       "      <td>gris marga</td>\n",
       "      <td>gris</td>\n",
       "    </tr>\n",
       "  </tbody>\n",
       "</table>\n",
       "<p>3001 rows × 5 columns</p>\n",
       "</div>"
      ],
      "text/plain": [
       "                         brand  \\\n",
       "0                     New Look   \n",
       "1                 Mama.licious   \n",
       "2                 Mama.licious   \n",
       "3                     Selected   \n",
       "4                 Mama.licious   \n",
       "...                        ...   \n",
       "2996                       JDY   \n",
       "2997            ASOS Maternity   \n",
       "2998              River Island   \n",
       "2999                      Vans   \n",
       "3000  ASOS Maternity - Nursing   \n",
       "\n",
       "                                            description    price  \\\n",
       "0     Top negro escalonado de manga larga con estamp...  16,99 €   \n",
       "1     Top color ámbar dorado de manga larga con cuel...  45,99 €   \n",
       "2     Top amarillo de manga larga con cuello ancho d...  21,99 €   \n",
       "3     Top marrón de manga larga con cuello alto de S...  31,99 €   \n",
       "4     Top multicolor a rayas con cuello alto de punt...  40,99 €   \n",
       "...                                                 ...      ...   \n",
       "2996          Camiseta sin mangas negra de punto de JDY   8,00 €   \n",
       "2997  Pack de 3 camisetas de manga larga con cuello ...  38,50 €   \n",
       "2998  Top de escote cuadrado con manga larga en negr...  11,25 €   \n",
       "2999           Camiseta blanca con logo pequeño de Vans  21,00 €   \n",
       "3000  Camiseta de lactancia gris marga con cuello de...  17,49 €   \n",
       "\n",
       "             colour    colour_simp  \n",
       "0             negro          negro  \n",
       "1      dorado ambar         dorado  \n",
       "2      dorado ambar         dorado  \n",
       "3     tierra oscura                 \n",
       "4        multicolor                 \n",
       "...             ...            ...  \n",
       "2996          negro          negro  \n",
       "2997   negro blanco   negro blanco  \n",
       "2998          negro          negro  \n",
       "2999         blanco         blanco  \n",
       "3000     gris marga           gris  \n",
       "\n",
       "[3001 rows x 5 columns]"
      ]
     },
     "execution_count": 317,
     "metadata": {},
     "output_type": "execute_result"
    }
   ],
   "source": [
    "color_df2"
   ]
  },
  {
   "cell_type": "code",
   "execution_count": 336,
   "id": "21051b7a",
   "metadata": {},
   "outputs": [],
   "source": [
    "color_df3=color_df2.copy()\n",
    "color_df3[\"colour_simp2\"]=\"\"\n",
    "color_df3.head()\n",
    "for i in range(len(color_df3)):\n",
    "    if color_df2.colour_simp[i] == \"\":\n",
    "        if (color_simplification.get(color_df3.colour[i], 'Other')!=\"Other\"):\n",
    "            color_df3.colour_simp2[i]=color_simplification.get(color_df3.colour[i], 'Other')\n",
    "            color_df3.colour_simp[i]=color_simplification.get(color_df3.colour[i], 'Other')\n",
    "        else:\n",
    "            pass\n",
    "    else:\n",
    "        pass"
   ]
  },
  {
   "cell_type": "markdown",
   "id": "3b64d820",
   "metadata": {},
   "source": [
    "#### Unify colors and keep only one column"
   ]
  },
  {
   "cell_type": "code",
   "execution_count": 339,
   "id": "ab6471d6",
   "metadata": {
    "scrolled": true
   },
   "outputs": [],
   "source": [
    "for i in range(len(color_df3)): \n",
    "    if color_df3.colour_simp[i]==\"\":\n",
    "        color_df3.colour_simp[i] = color_df3.colour_simp2[i]\n",
    "    else:\n",
    "        pass\n",
    "    \n",
    "color_df3 = color_df3.loc[:, ['brand', 'description', 'price', \"colour_simp\"]]\n",
    "color_df3 = color_df3.rename(columns={'colour_simp': 'colour'})"
   ]
  },
  {
   "cell_type": "code",
   "execution_count": 340,
   "id": "75797fb2",
   "metadata": {},
   "outputs": [],
   "source": [
    "color_df3.colour =[row.lstrip() for row in color_df3.colour]"
   ]
  },
  {
   "cell_type": "markdown",
   "id": "02f2ef54",
   "metadata": {},
   "source": [
    "#### Transform rows with multiple color values transform to \"multicolor\""
   ]
  },
  {
   "cell_type": "code",
   "execution_count": 341,
   "id": "0d29f199",
   "metadata": {},
   "outputs": [],
   "source": [
    "for i in range(len(color_df3)):\n",
    "    if len(color_df3.colour[i].split(\" \"))>1:\n",
    "        color_df3.colour[i]=\"multicolor\"\n",
    "    "
   ]
  },
  {
   "cell_type": "markdown",
   "id": "df4831f9",
   "metadata": {},
   "source": [
    "### 2.3 Clean `price` column"
   ]
  },
  {
   "cell_type": "code",
   "execution_count": 342,
   "id": "b4945afe",
   "metadata": {},
   "outputs": [],
   "source": [
    "color_df3[\"price\"]=[VAL.replace(\",\", \".\") for VAL in color_df3[\"price\"]]\n",
    "color_df3[\"price\"]=[VAL.replace(\"€\", \"\") for VAL in color_df3[\"price\"]]\n",
    "color_df3[\"price\"]=[float(VAL) for VAL in color_df3[\"price\"]]"
   ]
  },
  {
   "cell_type": "code",
   "execution_count": 343,
   "id": "e7023c71",
   "metadata": {
    "scrolled": true
   },
   "outputs": [
    {
     "data": {
      "text/html": [
       "<div>\n",
       "<style scoped>\n",
       "    .dataframe tbody tr th:only-of-type {\n",
       "        vertical-align: middle;\n",
       "    }\n",
       "\n",
       "    .dataframe tbody tr th {\n",
       "        vertical-align: top;\n",
       "    }\n",
       "\n",
       "    .dataframe thead th {\n",
       "        text-align: right;\n",
       "    }\n",
       "</style>\n",
       "<table border=\"1\" class=\"dataframe\">\n",
       "  <thead>\n",
       "    <tr style=\"text-align: right;\">\n",
       "      <th></th>\n",
       "      <th>brand</th>\n",
       "      <th>description</th>\n",
       "      <th>price</th>\n",
       "      <th>colour</th>\n",
       "    </tr>\n",
       "  </thead>\n",
       "  <tbody>\n",
       "    <tr>\n",
       "      <th>0</th>\n",
       "      <td>New Look</td>\n",
       "      <td>Top negro escalonado de manga larga con estamp...</td>\n",
       "      <td>16.99</td>\n",
       "      <td>negro</td>\n",
       "    </tr>\n",
       "    <tr>\n",
       "      <th>1</th>\n",
       "      <td>Mama.licious</td>\n",
       "      <td>Top color ámbar dorado de manga larga con cuel...</td>\n",
       "      <td>45.99</td>\n",
       "      <td>dorado</td>\n",
       "    </tr>\n",
       "    <tr>\n",
       "      <th>2</th>\n",
       "      <td>Mama.licious</td>\n",
       "      <td>Top amarillo de manga larga con cuello ancho d...</td>\n",
       "      <td>21.99</td>\n",
       "      <td>dorado</td>\n",
       "    </tr>\n",
       "    <tr>\n",
       "      <th>3</th>\n",
       "      <td>Selected</td>\n",
       "      <td>Top marrón de manga larga con cuello alto de S...</td>\n",
       "      <td>31.99</td>\n",
       "      <td>marron</td>\n",
       "    </tr>\n",
       "    <tr>\n",
       "      <th>4</th>\n",
       "      <td>Mama.licious</td>\n",
       "      <td>Top multicolor a rayas con cuello alto de punt...</td>\n",
       "      <td>40.99</td>\n",
       "      <td>multicolor</td>\n",
       "    </tr>\n",
       "  </tbody>\n",
       "</table>\n",
       "</div>"
      ],
      "text/plain": [
       "          brand                                        description  price  \\\n",
       "0      New Look  Top negro escalonado de manga larga con estamp...  16.99   \n",
       "1  Mama.licious  Top color ámbar dorado de manga larga con cuel...  45.99   \n",
       "2  Mama.licious  Top amarillo de manga larga con cuello ancho d...  21.99   \n",
       "3      Selected  Top marrón de manga larga con cuello alto de S...  31.99   \n",
       "4  Mama.licious  Top multicolor a rayas con cuello alto de punt...  40.99   \n",
       "\n",
       "       colour  \n",
       "0       negro  \n",
       "1      dorado  \n",
       "2      dorado  \n",
       "3      marron  \n",
       "4  multicolor  "
      ]
     },
     "execution_count": 343,
     "metadata": {},
     "output_type": "execute_result"
    }
   ],
   "source": [
    "color_df3.head()"
   ]
  },
  {
   "cell_type": "markdown",
   "id": "93522c15",
   "metadata": {},
   "source": [
    "### 2.4 Normalize brand names"
   ]
  },
  {
   "cell_type": "code",
   "execution_count": 293,
   "id": "ac2ff676",
   "metadata": {},
   "outputs": [],
   "source": [
    "color_df4=color_df3.copy()\n",
    "color_df4.brand = [row.replace(\".\", \"\") for row in color_df4.brand]"
   ]
  },
  {
   "cell_type": "code",
   "execution_count": 345,
   "id": "f2a98a6b",
   "metadata": {},
   "outputs": [
    {
     "data": {
      "text/plain": [
       "colour\n",
       "amarillo      23.823125\n",
       "azul          25.566327\n",
       "beis          20.576084\n",
       "blanco        24.943798\n",
       "coral         18.187500\n",
       "crema         25.037500\n",
       "dorado        28.580000\n",
       "estampado     30.248571\n",
       "floral        18.833333\n",
       "gris          19.769571\n",
       "lila          17.660000\n",
       "marfil        23.513846\n",
       "marron        19.940291\n",
       "morado        22.485063\n",
       "multicolor    19.713105\n",
       "naranja       21.729737\n",
       "negro         22.936110\n",
       "neutro        22.000000\n",
       "plateado      42.998000\n",
       "rojo          27.608333\n",
       "rosa          23.525574\n",
       "turquesa      21.500000\n",
       "verde         19.573492\n",
       "violeta       18.518000\n",
       "Name: price, dtype: float64"
      ]
     },
     "metadata": {},
     "output_type": "display_data"
    },
    {
     "data": {
      "text/plain": [
       "brand\n",
       "& Other Stories        28.770270\n",
       "4th & Reckless         28.166667\n",
       "4th & Reckless Tall    33.000000\n",
       "AFRM                   27.000000\n",
       "ASOS 4505              16.495500\n",
       "                         ...    \n",
       "adidas                 13.600000\n",
       "adidas Originals       26.265306\n",
       "adidas performance     28.375000\n",
       "ellesse                25.952381\n",
       "sister jane            36.000000\n",
       "Name: price, Length: 215, dtype: float64"
      ]
     },
     "metadata": {},
     "output_type": "display_data"
    }
   ],
   "source": [
    "display(color_df4.groupby('colour')['price'].mean())\n",
    "display(color_df4.groupby('brand')['price'].mean())"
   ]
  },
  {
   "cell_type": "markdown",
   "id": "ac181d6f",
   "metadata": {},
   "source": [
    "## 3. Save cleaned data"
   ]
  },
  {
   "cell_type": "code",
   "execution_count": 346,
   "id": "a52e5b4a",
   "metadata": {},
   "outputs": [],
   "source": [
    "asos_womentshirt_clean=color_df4.copy()\n",
    "#asos_womentshirt_clean.to_csv('../../data/clean/asos_womentshirt_clean.csv', index=False)"
   ]
  },
  {
   "cell_type": "code",
   "execution_count": null,
   "id": "a2f48f13",
   "metadata": {},
   "outputs": [],
   "source": []
  }
 ],
 "metadata": {
  "kernelspec": {
   "display_name": "env37",
   "language": "python",
   "name": "env37"
  },
  "language_info": {
   "codemirror_mode": {
    "name": "ipython",
    "version": 3
   },
   "file_extension": ".py",
   "mimetype": "text/x-python",
   "name": "python",
   "nbconvert_exporter": "python",
   "pygments_lexer": "ipython3",
   "version": "3.7.16"
  }
 },
 "nbformat": 4,
 "nbformat_minor": 5
}
