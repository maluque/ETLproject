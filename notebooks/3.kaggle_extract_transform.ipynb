{
 "cells": [
  {
   "cell_type": "markdown",
   "id": "0a069968",
   "metadata": {},
   "source": [
    "# Extract and Transform a kaggle database\n",
    "\n",
    "### Customer Shopping Trends Dataset\n",
    "\n",
    "https://www.kaggle.com/discussions/general/124517\n",
    "\n",
    "\n",
    "It is a mock dataset, I will artificially consider this is the sales record of the items available in Amazon and ASOS"
   ]
  },
  {
   "cell_type": "markdown",
   "id": "91fcf992",
   "metadata": {},
   "source": [
    "### 0. Import modules"
   ]
  },
  {
   "cell_type": "code",
   "execution_count": 17,
   "id": "f6f7aa61",
   "metadata": {},
   "outputs": [],
   "source": [
    "import pandas as pd\n",
    "import numpy as np\n",
    "import warnings\n",
    "import random\n",
    "warnings.filterwarnings('ignore') # ignorar warnings\n",
    "\n",
    "# Import my module\n",
    "from src import dataanalysis_fun1 as mlg "
   ]
  },
  {
   "cell_type": "code",
   "execution_count": null,
   "id": "93dfacf4",
   "metadata": {},
   "outputs": [],
   "source": []
  },
  {
   "cell_type": "code",
   "execution_count": 2,
   "id": "52d84d04",
   "metadata": {},
   "outputs": [],
   "source": [
    "kaggle_raw = pd.read_csv('../../data/raw/shopping_trends_updated.csv')"
   ]
  },
  {
   "cell_type": "code",
   "execution_count": 3,
   "id": "e6b42c1c",
   "metadata": {},
   "outputs": [
    {
     "name": "stdout",
     "output_type": "stream",
     "text": [
      "<class 'pandas.core.frame.DataFrame'>\n",
      "RangeIndex: 3900 entries, 0 to 3899\n",
      "Data columns (total 18 columns):\n",
      " #   Column                  Non-Null Count  Dtype  \n",
      "---  ------                  --------------  -----  \n",
      " 0   Customer ID             3900 non-null   int64  \n",
      " 1   Age                     3900 non-null   int64  \n",
      " 2   Gender                  3900 non-null   object \n",
      " 3   Item Purchased          3900 non-null   object \n",
      " 4   Category                3900 non-null   object \n",
      " 5   Purchase Amount (USD)   3900 non-null   int64  \n",
      " 6   Location                3900 non-null   object \n",
      " 7   Size                    3900 non-null   object \n",
      " 8   Color                   3900 non-null   object \n",
      " 9   Season                  3900 non-null   object \n",
      " 10  Review Rating           3900 non-null   float64\n",
      " 11  Subscription Status     3900 non-null   object \n",
      " 12  Shipping Type           3900 non-null   object \n",
      " 13  Discount Applied        3900 non-null   object \n",
      " 14  Promo Code Used         3900 non-null   object \n",
      " 15  Previous Purchases      3900 non-null   int64  \n",
      " 16  Payment Method          3900 non-null   object \n",
      " 17  Frequency of Purchases  3900 non-null   object \n",
      "dtypes: float64(1), int64(4), object(13)\n",
      "memory usage: 548.6+ KB\n"
     ]
    }
   ],
   "source": [
    "kaggle_raw.info()"
   ]
  },
  {
   "cell_type": "code",
   "execution_count": 8,
   "id": "329100a9",
   "metadata": {},
   "outputs": [
    {
     "data": {
      "text/plain": [
       "Index(['Customer ID', 'Age', 'Gender', 'Item Purchased', 'Category',\n",
       "       'Purchase Amount (USD)', 'Location', 'Size', 'Color', 'Season',\n",
       "       'Review Rating', 'Subscription Status', 'Shipping Type',\n",
       "       'Discount Applied', 'Promo Code Used', 'Previous Purchases',\n",
       "       'Payment Method', 'Frequency of Purchases'],\n",
       "      dtype='object')"
      ]
     },
     "execution_count": 8,
     "metadata": {},
     "output_type": "execute_result"
    }
   ],
   "source": [
    "kaggle_raw.columns"
   ]
  },
  {
   "cell_type": "code",
   "execution_count": 11,
   "id": "5a26896b",
   "metadata": {},
   "outputs": [],
   "source": [
    "kaggle_raw1=kaggle_raw[[\"Customer ID\", \"Age\", \"Gender\", \"Location\", \"Payment Method\", \"Review Rating\", \"Season\"]]"
   ]
  },
  {
   "cell_type": "markdown",
   "id": "06b20900",
   "metadata": {},
   "source": [
    "### normalize column names"
   ]
  },
  {
   "cell_type": "code",
   "execution_count": 24,
   "id": "5862714d",
   "metadata": {},
   "outputs": [
    {
     "data": {
      "text/html": [
       "<div>\n",
       "<style scoped>\n",
       "    .dataframe tbody tr th:only-of-type {\n",
       "        vertical-align: middle;\n",
       "    }\n",
       "\n",
       "    .dataframe tbody tr th {\n",
       "        vertical-align: top;\n",
       "    }\n",
       "\n",
       "    .dataframe thead th {\n",
       "        text-align: right;\n",
       "    }\n",
       "</style>\n",
       "<table border=\"1\" class=\"dataframe\">\n",
       "  <thead>\n",
       "    <tr style=\"text-align: right;\">\n",
       "      <th></th>\n",
       "      <th>customer_id</th>\n",
       "      <th>age</th>\n",
       "      <th>gender</th>\n",
       "      <th>location</th>\n",
       "      <th>payment_method</th>\n",
       "      <th>review_rating</th>\n",
       "      <th>season</th>\n",
       "    </tr>\n",
       "  </thead>\n",
       "  <tbody>\n",
       "    <tr>\n",
       "      <th>0</th>\n",
       "      <td>1</td>\n",
       "      <td>55</td>\n",
       "      <td>Male</td>\n",
       "      <td>Kentucky</td>\n",
       "      <td>Venmo</td>\n",
       "      <td>3.1</td>\n",
       "      <td>Winter</td>\n",
       "    </tr>\n",
       "    <tr>\n",
       "      <th>1</th>\n",
       "      <td>2</td>\n",
       "      <td>19</td>\n",
       "      <td>Male</td>\n",
       "      <td>Maine</td>\n",
       "      <td>Cash</td>\n",
       "      <td>3.1</td>\n",
       "      <td>Winter</td>\n",
       "    </tr>\n",
       "    <tr>\n",
       "      <th>2</th>\n",
       "      <td>3</td>\n",
       "      <td>50</td>\n",
       "      <td>Male</td>\n",
       "      <td>Massachusetts</td>\n",
       "      <td>Credit Card</td>\n",
       "      <td>3.1</td>\n",
       "      <td>Spring</td>\n",
       "    </tr>\n",
       "    <tr>\n",
       "      <th>3</th>\n",
       "      <td>4</td>\n",
       "      <td>21</td>\n",
       "      <td>Male</td>\n",
       "      <td>Rhode Island</td>\n",
       "      <td>PayPal</td>\n",
       "      <td>3.5</td>\n",
       "      <td>Spring</td>\n",
       "    </tr>\n",
       "    <tr>\n",
       "      <th>4</th>\n",
       "      <td>5</td>\n",
       "      <td>45</td>\n",
       "      <td>Male</td>\n",
       "      <td>Oregon</td>\n",
       "      <td>PayPal</td>\n",
       "      <td>2.7</td>\n",
       "      <td>Spring</td>\n",
       "    </tr>\n",
       "  </tbody>\n",
       "</table>\n",
       "</div>"
      ],
      "text/plain": [
       "   customer_id  age gender       location payment_method  review_rating  \\\n",
       "0            1   55   Male       Kentucky          Venmo            3.1   \n",
       "1            2   19   Male          Maine           Cash            3.1   \n",
       "2            3   50   Male  Massachusetts    Credit Card            3.1   \n",
       "3            4   21   Male   Rhode Island         PayPal            3.5   \n",
       "4            5   45   Male         Oregon         PayPal            2.7   \n",
       "\n",
       "   season  \n",
       "0  Winter  \n",
       "1  Winter  \n",
       "2  Spring  \n",
       "3  Spring  \n",
       "4  Spring  "
      ]
     },
     "execution_count": 24,
     "metadata": {},
     "output_type": "execute_result"
    }
   ],
   "source": [
    "kaggle_raw1=mlg.colnnam_clean(kaggle_raw1)\n",
    "kaggle_raw1.head()"
   ]
  },
  {
   "cell_type": "markdown",
   "id": "f4f71dfa",
   "metadata": {},
   "source": [
    "### Assign random Spanish province names to the customers"
   ]
  },
  {
   "cell_type": "code",
   "execution_count": 26,
   "id": "37dc8525",
   "metadata": {},
   "outputs": [],
   "source": [
    "spanish_prov = [\n",
    "    'Álava', 'Albacete', 'Alicante', 'Almería', 'Asturias', 'Ávila', 'Badajoz',\n",
    "    'Barcelona', 'Burgos', 'Cáceres', 'Cádiz', 'Cantabria', 'Castellón',\n",
    "    'Ciudad Real', 'Córdoba', 'Cuenca', 'Gerona', 'Granada', 'Guadalajara',\n",
    "    'Gipuzkoa', 'Huelva', 'Huesca', 'Baleares', 'Jaén',\n",
    "    'La Coruña', 'La Rioja', 'Las Palmas', 'León', 'Lleida', 'Lugo',\n",
    "    'Madrid', 'Málaga', 'Murcia', 'Navarra', 'Orense', 'Palencia',\n",
    "    'Pontevedra', 'Salamanca', 'Santa Cruz de Tenerife', 'Segovia', 'Sevilla',\n",
    "    'Soria', 'Tarragona', 'Teruel', 'Toledo', 'Valencia', 'Valladolid',\n",
    "    'Bizkaia', 'Zamora', 'Zaragoza'\n",
    "]\n",
    "spanish_prov=mlg.namvector_clean(spanish_prov)"
   ]
  },
  {
   "cell_type": "code",
   "execution_count": 29,
   "id": "59c98932",
   "metadata": {},
   "outputs": [],
   "source": [
    "for i in range(len(kaggle_raw1)):\n",
    "    kaggle_raw1.location[i]=random.choice(spanish_prov)"
   ]
  },
  {
   "cell_type": "code",
   "execution_count": 33,
   "id": "6356f07c",
   "metadata": {},
   "outputs": [
    {
     "data": {
      "text/html": [
       "<div>\n",
       "<style scoped>\n",
       "    .dataframe tbody tr th:only-of-type {\n",
       "        vertical-align: middle;\n",
       "    }\n",
       "\n",
       "    .dataframe tbody tr th {\n",
       "        vertical-align: top;\n",
       "    }\n",
       "\n",
       "    .dataframe thead th {\n",
       "        text-align: right;\n",
       "    }\n",
       "</style>\n",
       "<table border=\"1\" class=\"dataframe\">\n",
       "  <thead>\n",
       "    <tr style=\"text-align: right;\">\n",
       "      <th></th>\n",
       "      <th>customer_id</th>\n",
       "      <th>age</th>\n",
       "      <th>gender</th>\n",
       "      <th>location</th>\n",
       "      <th>payment_method</th>\n",
       "      <th>review_rating</th>\n",
       "      <th>season</th>\n",
       "    </tr>\n",
       "  </thead>\n",
       "  <tbody>\n",
       "    <tr>\n",
       "      <th>0</th>\n",
       "      <td>1</td>\n",
       "      <td>55</td>\n",
       "      <td>Male</td>\n",
       "      <td>teruel</td>\n",
       "      <td>Venmo</td>\n",
       "      <td>3.1</td>\n",
       "      <td>Winter</td>\n",
       "    </tr>\n",
       "    <tr>\n",
       "      <th>1</th>\n",
       "      <td>2</td>\n",
       "      <td>19</td>\n",
       "      <td>Male</td>\n",
       "      <td>cadiz</td>\n",
       "      <td>Cash</td>\n",
       "      <td>3.1</td>\n",
       "      <td>Winter</td>\n",
       "    </tr>\n",
       "    <tr>\n",
       "      <th>2</th>\n",
       "      <td>3</td>\n",
       "      <td>50</td>\n",
       "      <td>Male</td>\n",
       "      <td>barcelona</td>\n",
       "      <td>Credit Card</td>\n",
       "      <td>3.1</td>\n",
       "      <td>Spring</td>\n",
       "    </tr>\n",
       "    <tr>\n",
       "      <th>3</th>\n",
       "      <td>4</td>\n",
       "      <td>21</td>\n",
       "      <td>Male</td>\n",
       "      <td>ciudad_real</td>\n",
       "      <td>PayPal</td>\n",
       "      <td>3.5</td>\n",
       "      <td>Spring</td>\n",
       "    </tr>\n",
       "    <tr>\n",
       "      <th>4</th>\n",
       "      <td>5</td>\n",
       "      <td>45</td>\n",
       "      <td>Male</td>\n",
       "      <td>alava</td>\n",
       "      <td>PayPal</td>\n",
       "      <td>2.7</td>\n",
       "      <td>Spring</td>\n",
       "    </tr>\n",
       "    <tr>\n",
       "      <th>...</th>\n",
       "      <td>...</td>\n",
       "      <td>...</td>\n",
       "      <td>...</td>\n",
       "      <td>...</td>\n",
       "      <td>...</td>\n",
       "      <td>...</td>\n",
       "      <td>...</td>\n",
       "    </tr>\n",
       "    <tr>\n",
       "      <th>3895</th>\n",
       "      <td>3896</td>\n",
       "      <td>40</td>\n",
       "      <td>Female</td>\n",
       "      <td>navarra</td>\n",
       "      <td>Venmo</td>\n",
       "      <td>4.2</td>\n",
       "      <td>Summer</td>\n",
       "    </tr>\n",
       "    <tr>\n",
       "      <th>3896</th>\n",
       "      <td>3897</td>\n",
       "      <td>52</td>\n",
       "      <td>Female</td>\n",
       "      <td>albacete</td>\n",
       "      <td>Bank Transfer</td>\n",
       "      <td>4.5</td>\n",
       "      <td>Spring</td>\n",
       "    </tr>\n",
       "    <tr>\n",
       "      <th>3897</th>\n",
       "      <td>3898</td>\n",
       "      <td>46</td>\n",
       "      <td>Female</td>\n",
       "      <td>palencia</td>\n",
       "      <td>Venmo</td>\n",
       "      <td>2.9</td>\n",
       "      <td>Spring</td>\n",
       "    </tr>\n",
       "    <tr>\n",
       "      <th>3898</th>\n",
       "      <td>3899</td>\n",
       "      <td>44</td>\n",
       "      <td>Female</td>\n",
       "      <td>salamanca</td>\n",
       "      <td>Venmo</td>\n",
       "      <td>3.8</td>\n",
       "      <td>Summer</td>\n",
       "    </tr>\n",
       "    <tr>\n",
       "      <th>3899</th>\n",
       "      <td>3900</td>\n",
       "      <td>52</td>\n",
       "      <td>Female</td>\n",
       "      <td>barcelona</td>\n",
       "      <td>Venmo</td>\n",
       "      <td>3.1</td>\n",
       "      <td>Spring</td>\n",
       "    </tr>\n",
       "  </tbody>\n",
       "</table>\n",
       "<p>3900 rows × 7 columns</p>\n",
       "</div>"
      ],
      "text/plain": [
       "      customer_id  age  gender     location payment_method  review_rating  \\\n",
       "0               1   55    Male       teruel          Venmo            3.1   \n",
       "1               2   19    Male        cadiz           Cash            3.1   \n",
       "2               3   50    Male    barcelona    Credit Card            3.1   \n",
       "3               4   21    Male  ciudad_real         PayPal            3.5   \n",
       "4               5   45    Male        alava         PayPal            2.7   \n",
       "...           ...  ...     ...          ...            ...            ...   \n",
       "3895         3896   40  Female      navarra          Venmo            4.2   \n",
       "3896         3897   52  Female     albacete  Bank Transfer            4.5   \n",
       "3897         3898   46  Female     palencia          Venmo            2.9   \n",
       "3898         3899   44  Female    salamanca          Venmo            3.8   \n",
       "3899         3900   52  Female    barcelona          Venmo            3.1   \n",
       "\n",
       "      season  \n",
       "0     Winter  \n",
       "1     Winter  \n",
       "2     Spring  \n",
       "3     Spring  \n",
       "4     Spring  \n",
       "...      ...  \n",
       "3895  Summer  \n",
       "3896  Spring  \n",
       "3897  Spring  \n",
       "3898  Summer  \n",
       "3899  Spring  \n",
       "\n",
       "[3900 rows x 7 columns]"
      ]
     },
     "execution_count": 33,
     "metadata": {},
     "output_type": "execute_result"
    }
   ],
   "source": [
    "kaggle_raw1"
   ]
  },
  {
   "cell_type": "code",
   "execution_count": 34,
   "id": "867e7aa6",
   "metadata": {},
   "outputs": [],
   "source": [
    "kaggle_clean=kaggle_raw1.copy()\n",
    "#kaggle_clean.to_csv('../../data/clean/kaggle_clean.csv', index=False)"
   ]
  }
 ],
 "metadata": {
  "kernelspec": {
   "display_name": "env37",
   "language": "python",
   "name": "env37"
  },
  "language_info": {
   "codemirror_mode": {
    "name": "ipython",
    "version": 3
   },
   "file_extension": ".py",
   "mimetype": "text/x-python",
   "name": "python",
   "nbconvert_exporter": "python",
   "pygments_lexer": "ipython3",
   "version": "3.7.16"
  }
 },
 "nbformat": 4,
 "nbformat_minor": 5
}
